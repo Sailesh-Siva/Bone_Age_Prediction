{
 "cells": [
  {
   "cell_type": "code",
   "execution_count": 1,
   "id": "ae31be97-ff69-4508-bd4d-96f7a424e47b",
   "metadata": {},
   "outputs": [],
   "source": [
    "import pandas as pd\n",
    "import numpy as np\n",
    "import os\n",
    "from PIL import Image\n",
    "from tqdm import tqdm\n",
    "\n",
    "import tensorflow as tf\n",
    "from tensorflow.keras.applications import MobileNetV2\n",
    "from tensorflow.keras.applications.mobilenet_v2 import preprocess_input\n",
    "from tensorflow.keras.models import Model\n",
    "from tensorflow.keras.layers import Dense, GlobalAveragePooling2D, Input, Concatenate\n",
    "from tensorflow.keras.preprocessing.image import img_to_array\n",
    "from sklearn.preprocessing import LabelEncoder\n",
    "from sklearn.metrics import mean_absolute_error\n"
   ]
  },
  {
   "cell_type": "code",
   "execution_count": 2,
   "id": "4e90edb0-b275-4e5a-ad62-34f3e6fd2739",
   "metadata": {},
   "outputs": [],
   "source": [
    "train_df = pd.read_csv(r\"S:\\Coding\\Python\\MiniProject\\Dataset\\80_20excel\\train.csv\")\n",
    "test_df = pd.read_csv(r\"S:\\Coding\\Python\\MiniProject\\Dataset\\80_20excel\\test.csv\")\n",
    "\n",
    "# Encode gender\n",
    "le = LabelEncoder()\n",
    "train_df['gender_encoded'] = le.fit_transform(train_df['gender'])\n",
    "test_df['gender_encoded'] = le.transform(test_df['gender'])\n"
   ]
  },
  {
   "cell_type": "code",
   "execution_count": null,
   "id": "a2b08235-464c-4a9e-972a-52563c0084e3",
   "metadata": {},
   "outputs": [
    {
     "name": "stderr",
     "output_type": "stream",
     "text": [
      " 46%|███████████████████████████████████▌                                          | 1149/2522 [00:39<00:48, 28.27it/s]"
     ]
    }
   ],
   "source": [
    "IMG_SIZE = (96, 96)\n",
    "\n",
    "def load_images(image_dir, ids):\n",
    "    images = []\n",
    "    for img_id in tqdm(ids):\n",
    "        img_path = os.path.join(image_dir, str(img_id) + \".png\")\n",
    "        image = Image.open(img_path).convert('RGB')\n",
    "        image = image.resize(IMG_SIZE)\n",
    "        image = img_to_array(image)\n",
    "        image = preprocess_input(image)\n",
    "        images.append(image)\n",
    "    return np.array(images)\n",
    "\n",
    "#train_images = load_images(r\"S:\\Coding\\Python\\MiniProject\\Dataset\\80_20image\\train\", train_df['id'])\n",
    "test_images = load_images(r\"S:\\Coding\\Python\\MiniProject\\Dataset\\80_20image\\test\", test_df['id'])\n",
    "\n",
    "#train_gender = train_df['gender_encoded'].values\n",
    "test_gender = test_df['gender_encoded'].values\n",
    "\n",
    "#y_train = train_df['year'].values\n",
    "y_test = test_df['year'].values\n"
   ]
  },
  {
   "cell_type": "code",
   "execution_count": 11,
   "id": "8d1c14fe-7649-4c03-968d-b22d427197a1",
   "metadata": {},
   "outputs": [],
   "source": [
    "model = tf.keras.models.load_model(r\"S:\\Coding\\Python\\MiniProject\\Models\\CBAMCNN_V3\\model_epoch_07.h5\")"
   ]
  },
  {
   "cell_type": "code",
   "execution_count": 12,
   "id": "fb2f4e18-fd26-41e4-b0da-f9d58f217fc3",
   "metadata": {},
   "outputs": [
    {
     "name": "stdout",
     "output_type": "stream",
     "text": [
      "79/79 [==============================] - 8s 12ms/step\n",
      "MAE on test set: 13.451553344726562\n"
     ]
    }
   ],
   "source": [
    "preds = model.predict([test_images, test_gender]).flatten()\n",
    "mae = mean_absolute_error(y_test, preds)\n",
    "print(\"MAE on test set:\", mae)\n"
   ]
  },
  {
   "cell_type": "code",
   "execution_count": 14,
   "id": "12dc0864-184b-499e-94a5-a071cfe351ce",
   "metadata": {},
   "outputs": [],
   "source": [
    "model = tf.keras.models.load_model(r\"S:\\Coding\\Python\\MiniProject\\Models\\Untitled Folder\\CNNV2.h5\")"
   ]
  },
  {
   "cell_type": "code",
   "execution_count": 15,
   "id": "5b35f977-868a-48b1-b75a-d4dc3de187f4",
   "metadata": {},
   "outputs": [
    {
     "name": "stdout",
     "output_type": "stream",
     "text": [
      "79/79 [==============================] - 1s 10ms/step\n",
      "MAE on test set: 9.049964904785156\n"
     ]
    }
   ],
   "source": [
    "preds = model.predict([test_images, test_gender]).flatten()\n",
    "mae = mean_absolute_error(y_test, preds)\n",
    "print(\"MAE on test set:\", mae)\n"
   ]
  },
  {
   "cell_type": "code",
   "execution_count": null,
   "id": "7a1cb708-8521-4c3a-ac98-49aa6db4eefb",
   "metadata": {},
   "outputs": [],
   "source": []
  }
 ],
 "metadata": {
  "kernelspec": {
   "display_name": "Python 3 (ipykernel)",
   "language": "python",
   "name": "python3"
  },
  "language_info": {
   "codemirror_mode": {
    "name": "ipython",
    "version": 3
   },
   "file_extension": ".py",
   "mimetype": "text/x-python",
   "name": "python",
   "nbconvert_exporter": "python",
   "pygments_lexer": "ipython3",
   "version": "3.10.16"
  }
 },
 "nbformat": 4,
 "nbformat_minor": 5
}
