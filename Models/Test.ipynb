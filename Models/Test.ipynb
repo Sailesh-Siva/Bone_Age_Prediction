{
 "cells": [
  {
   "cell_type": "code",
   "execution_count": 1,
   "id": "ae31be97-ff69-4508-bd4d-96f7a424e47b",
   "metadata": {},
   "outputs": [],
   "source": [
    "import pandas as pd\n",
    "import numpy as np\n",
    "import os\n",
    "from PIL import Image\n",
    "from tqdm import tqdm\n",
    "\n",
    "import tensorflow as tf\n",
    "from tensorflow.keras.applications import MobileNetV2\n",
    "from tensorflow.keras.applications.mobilenet_v2 import preprocess_input\n",
    "from tensorflow.keras.models import Model\n",
    "from tensorflow.keras.layers import Dense, GlobalAveragePooling2D, Input, Concatenate\n",
    "from tensorflow.keras.preprocessing.image import img_to_array\n",
    "from sklearn.preprocessing import LabelEncoder\n",
    "from sklearn.metrics import mean_absolute_error\n"
   ]
  },
  {
   "cell_type": "code",
   "execution_count": 2,
   "id": "4e90edb0-b275-4e5a-ad62-34f3e6fd2739",
   "metadata": {},
   "outputs": [],
   "source": [
    "train_df = pd.read_csv(r\"S:\\Coding\\Python\\MiniProject\\Dataset\\80_20excel\\train.csv\")\n",
    "test_df = pd.read_csv(r\"S:\\Coding\\Python\\MiniProject\\Dataset\\80_20excel\\test.csv\")\n",
    "\n",
    "# Encode gender\n",
    "le = LabelEncoder()\n",
    "train_df['gender_encoded'] = le.fit_transform(train_df['gender'])\n",
    "test_df['gender_encoded'] = le.transform(test_df['gender'])\n"
   ]
  },
  {
   "cell_type": "code",
   "execution_count": 10,
   "id": "a2b08235-464c-4a9e-972a-52563c0084e3",
   "metadata": {},
   "outputs": [
    {
     "name": "stderr",
     "output_type": "stream",
     "text": [
      "100%|██████████████████████████████████████████████████████████████████████████████| 2522/2522 [01:12<00:00, 34.94it/s]\n"
     ]
    }
   ],
   "source": [
    "IMG_SIZE = (128, 128)\n",
    "\n",
    "def load_images(image_dir, ids):\n",
    "    images = []\n",
    "    for img_id in tqdm(ids):\n",
    "        img_path = os.path.join(image_dir, str(img_id) + \".png\")\n",
    "        image = Image.open(img_path).convert('RGB')\n",
    "        image = image.resize(IMG_SIZE)\n",
    "        image = img_to_array(image)\n",
    "        image = preprocess_input(image)\n",
    "        images.append(image)\n",
    "    return np.array(images)\n",
    "\n",
    "#train_images = load_images(r\"S:\\Coding\\Python\\MiniProject\\Dataset\\80_20image\\train\", train_df['id'])\n",
    "test_images = load_images(r\"S:\\Coding\\Python\\MiniProject\\Dataset\\80_20image\\test\", test_df['id'])\n",
    "\n",
    "#train_gender = train_df['gender_encoded'].values\n",
    "test_gender = test_df['gender_encoded'].values\n",
    "\n",
    "#y_train = train_df['year'].values\n",
    "y_test = test_df['year'].values\n"
   ]
  },
  {
   "cell_type": "code",
   "execution_count": 8,
   "id": "8d1c14fe-7649-4c03-968d-b22d427197a1",
   "metadata": {},
   "outputs": [],
   "source": [
    "model = tf.keras.models.load_model(r\"S:\\Coding\\Python\\MiniProject\\Models\\CBAMCNN_V1\\model_epoch_05.h5\")"
   ]
  },
  {
   "cell_type": "code",
   "execution_count": 9,
   "id": "fb2f4e18-fd26-41e4-b0da-f9d58f217fc3",
   "metadata": {},
   "outputs": [
    {
     "ename": "ValueError",
     "evalue": "in user code:\n\n    File \"C:\\Users\\Sailesh\\.conda\\envs\\ResearchCredit\\lib\\site-packages\\keras\\engine\\training.py\", line 2041, in predict_function  *\n        return step_function(self, iterator)\n    File \"C:\\Users\\Sailesh\\.conda\\envs\\ResearchCredit\\lib\\site-packages\\keras\\engine\\training.py\", line 2027, in step_function  **\n        outputs = model.distribute_strategy.run(run_step, args=(data,))\n    File \"C:\\Users\\Sailesh\\.conda\\envs\\ResearchCredit\\lib\\site-packages\\keras\\engine\\training.py\", line 2015, in run_step  **\n        outputs = model.predict_step(data)\n    File \"C:\\Users\\Sailesh\\.conda\\envs\\ResearchCredit\\lib\\site-packages\\keras\\engine\\training.py\", line 1983, in predict_step\n        return self(x, training=False)\n    File \"C:\\Users\\Sailesh\\.conda\\envs\\ResearchCredit\\lib\\site-packages\\keras\\utils\\traceback_utils.py\", line 70, in error_handler\n        raise e.with_traceback(filtered_tb) from None\n    File \"C:\\Users\\Sailesh\\.conda\\envs\\ResearchCredit\\lib\\site-packages\\keras\\engine\\input_spec.py\", line 295, in assert_input_compatibility\n        raise ValueError(\n\n    ValueError: Input 0 of layer \"model\" is incompatible with the layer: expected shape=(None, 128, 128, 3), found shape=(None, 96, 96, 3)\n",
     "output_type": "error",
     "traceback": [
      "\u001b[1;31m---------------------------------------------------------------------------\u001b[0m",
      "\u001b[1;31mValueError\u001b[0m                                Traceback (most recent call last)",
      "Cell \u001b[1;32mIn[9], line 1\u001b[0m\n\u001b[1;32m----> 1\u001b[0m preds \u001b[38;5;241m=\u001b[39m \u001b[43mmodel\u001b[49m\u001b[38;5;241;43m.\u001b[39;49m\u001b[43mpredict\u001b[49m\u001b[43m(\u001b[49m\u001b[43m[\u001b[49m\u001b[43mtest_images\u001b[49m\u001b[43m,\u001b[49m\u001b[43m \u001b[49m\u001b[43mtest_gender\u001b[49m\u001b[43m]\u001b[49m\u001b[43m)\u001b[49m\u001b[38;5;241m.\u001b[39mflatten()\n\u001b[0;32m      2\u001b[0m mae \u001b[38;5;241m=\u001b[39m mean_absolute_error(y_test, preds)\n\u001b[0;32m      3\u001b[0m \u001b[38;5;28mprint\u001b[39m(\u001b[38;5;124m\"\u001b[39m\u001b[38;5;124mMAE on test set:\u001b[39m\u001b[38;5;124m\"\u001b[39m, mae)\n",
      "File \u001b[1;32m~\\.conda\\envs\\ResearchCredit\\lib\\site-packages\\keras\\utils\\traceback_utils.py:70\u001b[0m, in \u001b[0;36mfilter_traceback.<locals>.error_handler\u001b[1;34m(*args, **kwargs)\u001b[0m\n\u001b[0;32m     67\u001b[0m     filtered_tb \u001b[38;5;241m=\u001b[39m _process_traceback_frames(e\u001b[38;5;241m.\u001b[39m__traceback__)\n\u001b[0;32m     68\u001b[0m     \u001b[38;5;66;03m# To get the full stack trace, call:\u001b[39;00m\n\u001b[0;32m     69\u001b[0m     \u001b[38;5;66;03m# `tf.debugging.disable_traceback_filtering()`\u001b[39;00m\n\u001b[1;32m---> 70\u001b[0m     \u001b[38;5;28;01mraise\u001b[39;00m e\u001b[38;5;241m.\u001b[39mwith_traceback(filtered_tb) \u001b[38;5;28;01mfrom\u001b[39;00m \u001b[38;5;28;01mNone\u001b[39;00m\n\u001b[0;32m     71\u001b[0m \u001b[38;5;28;01mfinally\u001b[39;00m:\n\u001b[0;32m     72\u001b[0m     \u001b[38;5;28;01mdel\u001b[39;00m filtered_tb\n",
      "File \u001b[1;32m~\\AppData\\Local\\Temp\\__autograph_generated_file8f9le_h9.py:15\u001b[0m, in \u001b[0;36mouter_factory.<locals>.inner_factory.<locals>.tf__predict_function\u001b[1;34m(iterator)\u001b[0m\n\u001b[0;32m     13\u001b[0m \u001b[38;5;28;01mtry\u001b[39;00m:\n\u001b[0;32m     14\u001b[0m     do_return \u001b[38;5;241m=\u001b[39m \u001b[38;5;28;01mTrue\u001b[39;00m\n\u001b[1;32m---> 15\u001b[0m     retval_ \u001b[38;5;241m=\u001b[39m ag__\u001b[38;5;241m.\u001b[39mconverted_call(ag__\u001b[38;5;241m.\u001b[39mld(step_function), (ag__\u001b[38;5;241m.\u001b[39mld(\u001b[38;5;28mself\u001b[39m), ag__\u001b[38;5;241m.\u001b[39mld(iterator)), \u001b[38;5;28;01mNone\u001b[39;00m, fscope)\n\u001b[0;32m     16\u001b[0m \u001b[38;5;28;01mexcept\u001b[39;00m:\n\u001b[0;32m     17\u001b[0m     do_return \u001b[38;5;241m=\u001b[39m \u001b[38;5;28;01mFalse\u001b[39;00m\n",
      "\u001b[1;31mValueError\u001b[0m: in user code:\n\n    File \"C:\\Users\\Sailesh\\.conda\\envs\\ResearchCredit\\lib\\site-packages\\keras\\engine\\training.py\", line 2041, in predict_function  *\n        return step_function(self, iterator)\n    File \"C:\\Users\\Sailesh\\.conda\\envs\\ResearchCredit\\lib\\site-packages\\keras\\engine\\training.py\", line 2027, in step_function  **\n        outputs = model.distribute_strategy.run(run_step, args=(data,))\n    File \"C:\\Users\\Sailesh\\.conda\\envs\\ResearchCredit\\lib\\site-packages\\keras\\engine\\training.py\", line 2015, in run_step  **\n        outputs = model.predict_step(data)\n    File \"C:\\Users\\Sailesh\\.conda\\envs\\ResearchCredit\\lib\\site-packages\\keras\\engine\\training.py\", line 1983, in predict_step\n        return self(x, training=False)\n    File \"C:\\Users\\Sailesh\\.conda\\envs\\ResearchCredit\\lib\\site-packages\\keras\\utils\\traceback_utils.py\", line 70, in error_handler\n        raise e.with_traceback(filtered_tb) from None\n    File \"C:\\Users\\Sailesh\\.conda\\envs\\ResearchCredit\\lib\\site-packages\\keras\\engine\\input_spec.py\", line 295, in assert_input_compatibility\n        raise ValueError(\n\n    ValueError: Input 0 of layer \"model\" is incompatible with the layer: expected shape=(None, 128, 128, 3), found shape=(None, 96, 96, 3)\n"
     ]
    }
   ],
   "source": [
    "preds = model.predict([test_images, test_gender]).flatten()\n",
    "mae = mean_absolute_error(y_test, preds)\n",
    "print(\"MAE on test set:\", mae)\n"
   ]
  },
  {
   "cell_type": "code",
   "execution_count": 14,
   "id": "12dc0864-184b-499e-94a5-a071cfe351ce",
   "metadata": {},
   "outputs": [],
   "source": [
    "model = tf.keras.models.load_model(r\"S:\\Coding\\Python\\MiniProject\\Models\\Untitled Folder\\CNNV2.h5\")"
   ]
  },
  {
   "cell_type": "code",
   "execution_count": 15,
   "id": "5b35f977-868a-48b1-b75a-d4dc3de187f4",
   "metadata": {},
   "outputs": [
    {
     "name": "stdout",
     "output_type": "stream",
     "text": [
      "79/79 [==============================] - 1s 10ms/step\n",
      "MAE on test set: 9.049964904785156\n"
     ]
    }
   ],
   "source": [
    "preds = model.predict([test_images, test_gender]).flatten()\n",
    "mae = mean_absolute_error(y_test, preds)\n",
    "print(\"MAE on test set:\", mae)\n"
   ]
  },
  {
   "cell_type": "code",
   "execution_count": null,
   "id": "7a1cb708-8521-4c3a-ac98-49aa6db4eefb",
   "metadata": {},
   "outputs": [],
   "source": []
  }
 ],
 "metadata": {
  "kernelspec": {
   "display_name": "Python 3 (ipykernel)",
   "language": "python",
   "name": "python3"
  },
  "language_info": {
   "codemirror_mode": {
    "name": "ipython",
    "version": 3
   },
   "file_extension": ".py",
   "mimetype": "text/x-python",
   "name": "python",
   "nbconvert_exporter": "python",
   "pygments_lexer": "ipython3",
   "version": "3.10.16"
  }
 },
 "nbformat": 4,
 "nbformat_minor": 5
}
